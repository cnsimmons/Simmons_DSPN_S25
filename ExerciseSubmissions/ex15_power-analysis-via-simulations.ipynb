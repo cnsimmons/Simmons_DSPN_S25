{
  "cells": [
    {
      "cell_type": "markdown",
      "metadata": {
        "id": "PRpVG0IHpqb_"
      },
      "source": [
        "<a href=\"https://colab.research.google.com/github/CoAxLab/Data-Explorations/blob/main/book/exercises/power-analysis-via-simulations.ipynb\" target=\"_parent\"><img src=\"https://colab.research.google.com/assets/colab-badge.svg\" alt=\"Open In Colab\"/></a>"
      ]
    },
    {
      "cell_type": "markdown",
      "metadata": {
        "id": "-2W919d2ZXp7"
      },
      "source": [
        "# Exercise 15: Power analyses"
      ]
    },
    {
      "cell_type": "markdown",
      "metadata": {
        "id": "L4nOzVhyZXqK"
      },
      "source": [
        "This  assignment is designed to give you practice with Monte Carlo methods to conduct power analyses via simulation. You won't need to load in any data for this homework. We will, however, be using parts of the homework from last week."
      ]
    },
    {
      "cell_type": "markdown",
      "source": [
        "1. Simulating data 1/1\n",
        "2. run_analysis function 2/2\n",
        "3. repeat_analysis() function 3/3\n",
        "4. Testing different sample sizes 2/2\n",
        "5. Reflection 2/2"
      ],
      "metadata": {
        "id": "XKYrLqaopruz"
      }
    },
    {
      "cell_type": "markdown",
      "metadata": {
        "id": "9DsyBTB6ZXqN"
      },
      "source": [
        "---\n",
        "## 1. Simulating data (1 points)\n"
      ]
    },
    {
      "cell_type": "markdown",
      "metadata": {
        "id": "J1f6MywYhyzN"
      },
      "source": [
        "Pull your `simulate_data()` function from your last homework and add it below.\n",
        "\n",
        "As a reminder, this function simulates the relationship between age, word reading experience, and reading comprehension skill.\n",
        "\n",
        "`c` is reading comprehension, and `x` is word reading experience."
      ]
    },
    {
      "cell_type": "code",
      "execution_count": null,
      "metadata": {
        "id": "UnBVazYfZXqP",
        "vscode": {
          "languageId": "r"
        },
        "outputId": "e99f9f95-3097-4f7e-f64f-7e931548f04d"
      },
      "outputs": [
        {
          "data": {
            "text/html": [
              "<table class=\"dataframe\">\n",
              "<caption>A data.frame: 6 × 3</caption>\n",
              "<thead>\n",
              "\t<tr><th></th><th scope=col>age</th><th scope=col>x</th><th scope=col>c</th></tr>\n",
              "\t<tr><th></th><th scope=col>&lt;dbl&gt;</th><th scope=col>&lt;dbl&gt;</th><th scope=col>&lt;dbl&gt;</th></tr>\n",
              "</thead>\n",
              "<tbody>\n",
              "\t<tr><th scope=row>1</th><td>124.71148</td><td> 28.839149</td><td>313.17540</td></tr>\n",
              "\t<tr><th scope=row>2</th><td>128.27629</td><td> 99.070617</td><td>597.38314</td></tr>\n",
              "\t<tr><th scope=row>3</th><td>127.37073</td><td>  4.527544</td><td> 86.72925</td></tr>\n",
              "\t<tr><th scope=row>4</th><td>177.69228</td><td>119.463737</td><td>582.83518</td></tr>\n",
              "\t<tr><th scope=row>5</th><td>185.54174</td><td>167.661905</td><td>634.92714</td></tr>\n",
              "\t<tr><th scope=row>6</th><td> 88.46584</td><td> 25.389679</td><td> 93.24581</td></tr>\n",
              "</tbody>\n",
              "</table>\n"
            ],
            "text/latex": [
              "A data.frame: 6 × 3\n",
              "\\begin{tabular}{r|lll}\n",
              "  & age & x & c\\\\\n",
              "  & <dbl> & <dbl> & <dbl>\\\\\n",
              "\\hline\n",
              "\t1 & 124.71148 &  28.839149 & 313.17540\\\\\n",
              "\t2 & 128.27629 &  99.070617 & 597.38314\\\\\n",
              "\t3 & 127.37073 &   4.527544 &  86.72925\\\\\n",
              "\t4 & 177.69228 & 119.463737 & 582.83518\\\\\n",
              "\t5 & 185.54174 & 167.661905 & 634.92714\\\\\n",
              "\t6 &  88.46584 &  25.389679 &  93.24581\\\\\n",
              "\\end{tabular}\n"
            ],
            "text/markdown": [
              "\n",
              "A data.frame: 6 × 3\n",
              "\n",
              "| <!--/--> | age &lt;dbl&gt; | x &lt;dbl&gt; | c &lt;dbl&gt; |\n",
              "|---|---|---|---|\n",
              "| 1 | 124.71148 |  28.839149 | 313.17540 |\n",
              "| 2 | 128.27629 |  99.070617 | 597.38314 |\n",
              "| 3 | 127.37073 |   4.527544 |  86.72925 |\n",
              "| 4 | 177.69228 | 119.463737 | 582.83518 |\n",
              "| 5 | 185.54174 | 167.661905 | 634.92714 |\n",
              "| 6 |  88.46584 |  25.389679 |  93.24581 |\n",
              "\n"
            ],
            "text/plain": [
              "  age       x          c        \n",
              "1 124.71148  28.839149 313.17540\n",
              "2 128.27629  99.070617 597.38314\n",
              "3 127.37073   4.527544  86.72925\n",
              "4 177.69228 119.463737 582.83518\n",
              "5 185.54174 167.661905 634.92714\n",
              "6  88.46584  25.389679  93.24581"
            ]
          },
          "metadata": {},
          "output_type": "display_data"
        }
      ],
      "source": [
        "sample_size = 100 # How many children in data set?\n",
        "age_lo = 80     # minimum age, in months\n",
        "age_hi = 200    # maximum age, in months\n",
        "beta_xa = 0.5   # amount by which experience changes for increase of one month in age\n",
        "beta_x0 = -5    # amount of experience when age = 0 (not interpretable, since minimum age for this data is 80 months)\n",
        "sd_x = 50       # standard dev of gaussian noise term, epsilon_x\n",
        "beta_ca = 0.8   # amount that comprehension score improves for every increase of one unit in age\n",
        "beta_cx = 3     # amount that comprehension score improves for every increase of one unit in reading experience\n",
        "beta_c0 = 10    # comprehension score when reading experience is 0.\n",
        "sd_c = 85      # standard dev of gaussian noise term, epsilon_c\n",
        "\n",
        "simulate_data <- function(sample_size, age_lo, age_hi, beta_xa, beta_x0, sd_x, beta_ca, beta_cx, beta_c0, sd_c) {\n",
        "  # Generate ages uniformly between age_lo and age_hi\n",
        "  age <- runif(sample_size, age_lo, age_hi)\n",
        "\n",
        "  # Generate word reading experience (x) as a function of age plus noise\n",
        "  x <- beta_x0 + beta_xa * age + rnorm(sample_size, 0, sd_x)\n",
        "\n",
        "  # Generate reading comprehension (c) as a function of age and experience plus noise\n",
        "  c <- beta_c0 + beta_ca * age + beta_cx * x + rnorm(sample_size, 0, sd_c)\n",
        "\n",
        "      return(data.frame(age=age,x=x,c=c)) # it's actually bad form to have a variable named \"c\" in R, my bad...\n",
        "}\n",
        "\n",
        "dat <- simulate_data(sample_size, age_lo, age_hi, beta_xa, beta_x0, sd_x, beta_ca, beta_cx, beta_c0, sd_c)\n",
        "head(dat)"
      ]
    },
    {
      "cell_type": "markdown",
      "metadata": {
        "id": "T3b3_KsHk-xD"
      },
      "source": [
        "---\n",
        "## 2. `run_analysis()` function (2 pts)"
      ]
    },
    {
      "cell_type": "markdown",
      "metadata": {
        "id": "TJyPIaTO8zCS"
      },
      "source": [
        "Last week, we looked at whether word reading experience(`x`) mediated the relation between `age` and reading comprehension (`c`).\n",
        "\n",
        "Now we're going to use our `simulate_data()` function to conduct a power analysis. The goal is to determine how many participants we would need in order to detect both the mediated and the direct effects in this data.\n",
        "\n",
        "*Note: We're going to pretend for the sake of simplicity that we don't have any control over the ages of the children we get (so ages are generated using `runif(sample_size, age_lo, age_hi)`, although of course this would be an unusual situation in reality.*\n",
        "\n",
        "First, write a function, `run_analysis()`, that takes in simulated data, runs **your mediation from last week**, and returns a vector containing the ACME and ADE estimates and p-values (these are the `d0`, `d0.p`, `z0`, and `z0.p` features of the mediated model object, e.g., `fitMed$d0.p`). Print this function's output for the data we simulated previously."
      ]
    },
    {
      "cell_type": "code",
      "execution_count": null,
      "metadata": {
        "id": "AidH_KidrX9L",
        "scrolled": true,
        "vscode": {
          "languageId": "r"
        },
        "outputId": "702ebe47-f2bf-44b1-a516-84517f782b6c"
      },
      "outputs": [
        {
          "name": "stderr",
          "output_type": "stream",
          "text": [
            "Running nonparametric bootstrap\n",
            "\n",
            "\n"
          ]
        },
        {
          "data": {
            "text/html": [
              "<style>\n",
              ".dl-inline {width: auto; margin:0; padding: 0}\n",
              ".dl-inline>dt, .dl-inline>dd {float: none; width: auto; display: inline-block}\n",
              ".dl-inline>dt::after {content: \":\\0020\"; padding-right: .5ex}\n",
              ".dl-inline>dt:not(:first-of-type) {padding-left: .5ex}\n",
              "</style><dl class=dl-inline><dt>ACME_est</dt><dd>1.40935383555124</dd><dt>ACME_p</dt><dd>0.004</dd><dt>ADE_est</dt><dd>1.19645154669426</dd><dt>ADE_p</dt><dd>0.002</dd></dl>\n"
            ],
            "text/latex": [
              "\\begin{description*}\n",
              "\\item[ACME\\textbackslash{}\\_est] 1.40935383555124\n",
              "\\item[ACME\\textbackslash{}\\_p] 0.004\n",
              "\\item[ADE\\textbackslash{}\\_est] 1.19645154669426\n",
              "\\item[ADE\\textbackslash{}\\_p] 0.002\n",
              "\\end{description*}\n"
            ],
            "text/markdown": [
              "ACME_est\n",
              ":   1.40935383555124ACME_p\n",
              ":   0.004ADE_est\n",
              ":   1.19645154669426ADE_p\n",
              ":   0.002\n",
              "\n"
            ],
            "text/plain": [
              "ACME_est   ACME_p  ADE_est    ADE_p \n",
              "1.409354 0.004000 1.196452 0.002000 "
            ]
          },
          "metadata": {},
          "output_type": "display_data"
        }
      ],
      "source": [
        "# Run Mediation Analysis\n",
        "# library(mediation)\n",
        "run_analysis <- function(dat) {\n",
        "  # Fit the mediator model (x ~ age)\n",
        "  fit_mediator <- lm(x ~ age, data = dat)\n",
        "\n",
        "  # Fit the outcome model (c ~ age + x)\n",
        "  fit_outcome <- lm(c ~ age + x, data = dat)\n",
        "\n",
        "  # Run the mediation analysis\n",
        "  fitMed <- mediate(fit_mediator, fit_outcome, treat = \"age\", mediator = \"x\",\n",
        "                   boot = TRUE, sims = 1000)\n",
        "\n",
        "  # Return ACME and ADE estimates and p-values\n",
        "  return(c(\n",
        "    ACME_est = fitMed$d0,      # Average Causal Mediation Effect estimate\n",
        "    ACME_p = fitMed$d0.p,      # ACME p-value\n",
        "    ADE_est = fitMed$z0,       # Average Direct Effect estimate\n",
        "    ADE_p = fitMed$z0.p        # ADE p-value\n",
        "  ))\n",
        "}\n",
        "\n",
        "# Test the function on our simulated data\n",
        "run_analysis(dat)\n"
      ]
    },
    {
      "cell_type": "markdown",
      "metadata": {
        "id": "bHxz5W2r5s79"
      },
      "source": [
        "---\n",
        "## 3. `repeat_analysis()` function (3 pts)"
      ]
    },
    {
      "cell_type": "markdown",
      "metadata": {
        "id": "G_jvc1XQBCpH"
      },
      "source": [
        "Next fill in the function `repeat_analysis()` below so that it simulates and analyzes data `num_simulations` times. Store the outputs from each simulation in the `simouts` matrix. Calculate and return the coverage across all the simulations run for both ACME and ADE."
      ]
    },
    {
      "cell_type": "code",
      "execution_count": null,
      "metadata": {
        "id": "NheOpBDsBBo9",
        "vscode": {
          "languageId": "r"
        }
      },
      "outputs": [],
      "source": [
        "repeat_analysis <- function(num_simulations, alpha, sample_size, age_lo, age_hi,\n",
        "        beta_xa, beta_x0, sd_x, beta_ca, beta_cx, beta_c0, sd_c) {\n",
        "    # Initialize simouts matrix for storing each output from run_analysis()\n",
        "    simouts <- matrix(rep(NA, num_simulations*4), nrow=num_simulations, ncol=4)\n",
        "    colnames(simouts) <- c(\"ACME_est\", \"ACME_p\", \"ADE_est\", \"ADE_p\")\n",
        "\n",
        "    # Start simulating\n",
        "    for (i in 1:num_simulations) {\n",
        "      # Simulate new data\n",
        "      sim_dat <- simulate_data(sample_size, age_lo, age_hi, beta_xa, beta_x0, sd_x,\n",
        "                             beta_ca, beta_cx, beta_c0, sd_c)\n",
        "\n",
        "      # Run analysis and store results\n",
        "      simouts[i, ] <- run_analysis(sim_dat)\n",
        "    }\n",
        "\n",
        "    # Calculate coverage for both ACME and ADE estimates using p-values in simouts\n",
        "    ACME_cov = mean(simouts[, \"ACME_p\"] < alpha)\n",
        "    ADE_cov = mean(simouts[, \"ADE_p\"] < alpha)\n",
        "\n",
        "    return(list(ACME_cov = ACME_cov, ADE_cov = ADE_cov))\n",
        "}"
      ]
    },
    {
      "cell_type": "markdown",
      "metadata": {
        "id": "bM5J5pYyQoRL"
      },
      "source": [
        "Now run the `repeat_analysis()` function using the same parameter settings as above, for 10 simulations, with an alpha criterion of 0.01."
      ]
    },
    {
      "cell_type": "code",
      "execution_count": null,
      "metadata": {
        "id": "RpURGbZQQlEK",
        "vscode": {
          "languageId": "r"
        },
        "outputId": "3b9adb51-558d-4db7-df3f-0f5014b271ad"
      },
      "outputs": [
        {
          "name": "stderr",
          "output_type": "stream",
          "text": [
            "Running nonparametric bootstrap\n",
            "\n",
            "\n",
            "Running nonparametric bootstrap\n",
            "\n",
            "\n",
            "Running nonparametric bootstrap\n",
            "\n",
            "\n",
            "Running nonparametric bootstrap\n",
            "\n",
            "\n",
            "Running nonparametric bootstrap\n",
            "\n",
            "\n",
            "Running nonparametric bootstrap\n",
            "\n",
            "\n",
            "Running nonparametric bootstrap\n",
            "\n",
            "\n",
            "Running nonparametric bootstrap\n",
            "\n",
            "\n",
            "Running nonparametric bootstrap\n",
            "\n",
            "\n",
            "Running nonparametric bootstrap\n",
            "\n",
            "\n"
          ]
        },
        {
          "name": "stdout",
          "output_type": "stream",
          "text": [
            "[1] 1\n",
            "[1] 0.6\n"
          ]
        }
      ],
      "source": [
        "# Run the repeat_analysis function with 10 simulations and alpha = 0.01\n",
        "set.seed(123) # For reproducibility\n",
        "results_10 <- repeat_analysis(10, 0.01, sample_size, age_lo, age_hi,\n",
        "                            beta_xa, beta_x0, sd_x, beta_ca, beta_cx, beta_c0, sd_c)\n",
        "print(results_10$ACME_cov)\n",
        "print(results_10$ADE_cov)"
      ]
    },
    {
      "cell_type": "markdown",
      "metadata": {
        "id": "imIoN4w65s7_"
      },
      "source": [
        "---\n",
        "## 4. Testing different sample sizes (2 pts)"
      ]
    },
    {
      "cell_type": "markdown",
      "metadata": {
        "id": "CzeTaoY7SaXv"
      },
      "source": [
        "Finally, do the same thing (10 simulations, alpha criterion of 0.01) but for 5 different sample sizes: 50, 75, 100, 125, 150. You can do this using `map` (as in the tutorial), or a simple `for` loop, or by calculating each individually. Up to you! This should take around 3 minutes to run."
      ]
    },
    {
      "cell_type": "code",
      "execution_count": null,
      "metadata": {
        "id": "mp-a19XsS8Md",
        "vscode": {
          "languageId": "r"
        },
        "outputId": "9b7601d7-c141-4213-92c0-54bcd06ac572"
      },
      "outputs": [
        {
          "name": "stderr",
          "output_type": "stream",
          "text": [
            "Running nonparametric bootstrap\n",
            "\n",
            "\n",
            "Running nonparametric bootstrap\n",
            "\n",
            "\n",
            "Running nonparametric bootstrap\n",
            "\n",
            "\n",
            "Running nonparametric bootstrap\n",
            "\n",
            "\n",
            "Running nonparametric bootstrap\n",
            "\n",
            "\n",
            "Running nonparametric bootstrap\n",
            "\n",
            "\n",
            "Running nonparametric bootstrap\n",
            "\n",
            "\n",
            "Running nonparametric bootstrap\n",
            "\n",
            "\n",
            "Running nonparametric bootstrap\n",
            "\n",
            "\n",
            "Running nonparametric bootstrap\n",
            "\n",
            "\n",
            "Running nonparametric bootstrap\n",
            "\n",
            "\n",
            "Running nonparametric bootstrap\n",
            "\n",
            "\n",
            "Running nonparametric bootstrap\n",
            "\n",
            "\n",
            "Running nonparametric bootstrap\n",
            "\n",
            "\n",
            "Running nonparametric bootstrap\n",
            "\n",
            "\n",
            "Running nonparametric bootstrap\n",
            "\n",
            "\n",
            "Running nonparametric bootstrap\n",
            "\n",
            "\n",
            "Running nonparametric bootstrap\n",
            "\n",
            "\n",
            "Running nonparametric bootstrap\n",
            "\n",
            "\n",
            "Running nonparametric bootstrap\n",
            "\n",
            "\n",
            "Running nonparametric bootstrap\n",
            "\n",
            "\n",
            "Running nonparametric bootstrap\n",
            "\n",
            "\n",
            "Running nonparametric bootstrap\n",
            "\n",
            "\n",
            "Running nonparametric bootstrap\n",
            "\n",
            "\n",
            "Running nonparametric bootstrap\n",
            "\n",
            "\n",
            "Running nonparametric bootstrap\n",
            "\n",
            "\n",
            "Running nonparametric bootstrap\n",
            "\n",
            "\n",
            "Running nonparametric bootstrap\n",
            "\n",
            "\n",
            "Running nonparametric bootstrap\n",
            "\n",
            "\n",
            "Running nonparametric bootstrap\n",
            "\n",
            "\n",
            "Running nonparametric bootstrap\n",
            "\n",
            "\n",
            "Running nonparametric bootstrap\n",
            "\n",
            "\n",
            "Running nonparametric bootstrap\n",
            "\n",
            "\n",
            "Running nonparametric bootstrap\n",
            "\n",
            "\n",
            "Running nonparametric bootstrap\n",
            "\n",
            "\n",
            "Running nonparametric bootstrap\n",
            "\n",
            "\n",
            "Running nonparametric bootstrap\n",
            "\n",
            "\n",
            "Running nonparametric bootstrap\n",
            "\n",
            "\n",
            "Running nonparametric bootstrap\n",
            "\n",
            "\n",
            "Running nonparametric bootstrap\n",
            "\n",
            "\n",
            "Running nonparametric bootstrap\n",
            "\n",
            "\n",
            "Running nonparametric bootstrap\n",
            "\n",
            "\n",
            "Running nonparametric bootstrap\n",
            "\n",
            "\n",
            "Running nonparametric bootstrap\n",
            "\n",
            "\n",
            "Running nonparametric bootstrap\n",
            "\n",
            "\n",
            "Running nonparametric bootstrap\n",
            "\n",
            "\n",
            "Running nonparametric bootstrap\n",
            "\n",
            "\n",
            "Running nonparametric bootstrap\n",
            "\n",
            "\n",
            "Running nonparametric bootstrap\n",
            "\n",
            "\n",
            "Running nonparametric bootstrap\n",
            "\n",
            "\n"
          ]
        }
      ],
      "source": [
        "# Define sample sizes to test\n",
        "sample_sizes <- c(50, 75, 100, 125, 150)\n",
        "\n",
        "# Initialize results matrix\n",
        "power_results <- matrix(NA, nrow = length(sample_sizes), ncol = 2)\n",
        "colnames(power_results) <- c(\"ACME_power\", \"ADE_power\")\n",
        "rownames(power_results) <- paste0(\"n=\", sample_sizes)\n",
        "\n",
        "# Run simulations for each sample size\n",
        "for (i in 1:length(sample_sizes)) {\n",
        "  set.seed(123 + i) # Different seed for each sample size\n",
        "  res <- repeat_analysis(10, 0.01, sample_sizes[i], age_lo, age_hi,\n",
        "                        beta_xa, beta_x0, sd_x, beta_ca, beta_cx, beta_c0, sd_c)\n",
        "\n",
        "  power_results[i, \"ACME_power\"] <- res$ACME_cov\n",
        "  power_results[i, \"ADE_power\"] <- res$ADE_cov\n",
        "}"
      ]
    },
    {
      "cell_type": "markdown",
      "metadata": {
        "id": "akJwKCB7dkDw"
      },
      "source": [
        "Print your results."
      ]
    },
    {
      "cell_type": "code",
      "execution_count": null,
      "metadata": {
        "id": "gIkkWTG2aR4d",
        "scrolled": true,
        "vscode": {
          "languageId": "r"
        },
        "outputId": "cccb7a8c-d358-44de-c137-94ac01383084"
      },
      "outputs": [
        {
          "data": {
            "text/html": [
              "<table class=\"dataframe\">\n",
              "<caption>A matrix: 5 × 2 of type dbl</caption>\n",
              "<thead>\n",
              "\t<tr><th></th><th scope=col>ACME_power</th><th scope=col>ADE_power</th></tr>\n",
              "</thead>\n",
              "<tbody>\n",
              "\t<tr><th scope=row>n=50</th><td>0.3</td><td>0.4</td></tr>\n",
              "\t<tr><th scope=row>n=75</th><td>0.5</td><td>0.7</td></tr>\n",
              "\t<tr><th scope=row>n=100</th><td>0.6</td><td>0.4</td></tr>\n",
              "\t<tr><th scope=row>n=125</th><td>0.8</td><td>1.0</td></tr>\n",
              "\t<tr><th scope=row>n=150</th><td>1.0</td><td>1.0</td></tr>\n",
              "</tbody>\n",
              "</table>\n"
            ],
            "text/latex": [
              "A matrix: 5 × 2 of type dbl\n",
              "\\begin{tabular}{r|ll}\n",
              "  & ACME\\_power & ADE\\_power\\\\\n",
              "\\hline\n",
              "\tn=50 & 0.3 & 0.4\\\\\n",
              "\tn=75 & 0.5 & 0.7\\\\\n",
              "\tn=100 & 0.6 & 0.4\\\\\n",
              "\tn=125 & 0.8 & 1.0\\\\\n",
              "\tn=150 & 1.0 & 1.0\\\\\n",
              "\\end{tabular}\n"
            ],
            "text/markdown": [
              "\n",
              "A matrix: 5 × 2 of type dbl\n",
              "\n",
              "| <!--/--> | ACME_power | ADE_power |\n",
              "|---|---|---|\n",
              "| n=50 | 0.3 | 0.4 |\n",
              "| n=75 | 0.5 | 0.7 |\n",
              "| n=100 | 0.6 | 0.4 |\n",
              "| n=125 | 0.8 | 1.0 |\n",
              "| n=150 | 1.0 | 1.0 |\n",
              "\n"
            ],
            "text/plain": [
              "      ACME_power ADE_power\n",
              "n=50  0.3        0.4      \n",
              "n=75  0.5        0.7      \n",
              "n=100 0.6        0.4      \n",
              "n=125 0.8        1.0      \n",
              "n=150 1.0        1.0      "
            ]
          },
          "metadata": {},
          "output_type": "display_data"
        }
      ],
      "source": [
        "# Print results\n",
        "power_results"
      ]
    },
    {
      "cell_type": "markdown",
      "metadata": {
        "id": "q3Oo6npB5s8B"
      },
      "source": [
        "## 5. Reflection (2 pts)"
      ]
    },
    {
      "cell_type": "markdown",
      "metadata": {
        "id": "tpbGkul2dr-5"
      },
      "source": [
        "If this were a real power analysis, we'd want to run more simulations per sample size (to get a more precise estimate of power) and we may also want to test out some other values of the parameters we used to simulate our data. However, what would you conclude just based on the results above?\n",
        "\n",
        "> *Based on our results it appears that n=125 is a sufficient sample size for large effect sizes based on our power analysis.*\n",
        ">"
      ]
    },
    {
      "cell_type": "markdown",
      "metadata": {
        "id": "RcCo3QOifUi5"
      },
      "source": [
        "**Given** how we generated the data, why was the direct effect harder to detect than the mediated effect?\n",
        "> *This was likely because the magnitude of the direct effect is smaller than the indirect effect, and the increased influence of noise makes it harder to detect across different sample sizes, especially with the limited number of simulations*"
      ]
    },
    {
      "cell_type": "markdown",
      "metadata": {
        "id": "C4MPECMmZXqe"
      },
      "source": [
        "**DUE:** 5pm EST, April 3, 2024"
      ]
    },
    {
      "cell_type": "markdown",
      "metadata": {
        "id": "r9GUofXN4BVy"
      },
      "source": [
        "**IMPORTANT** Did you collaborate with anyone on this assignment? If so, list their names here.\n",
        "> *Someone's Name*"
      ]
    }
  ],
  "metadata": {
    "colab": {
      "provenance": []
    },
    "kernelspec": {
      "display_name": "R",
      "language": "R",
      "name": "ir"
    },
    "language_info": {
      "codemirror_mode": "r",
      "file_extension": ".r",
      "mimetype": "text/x-r-source",
      "name": "R",
      "pygments_lexer": "r",
      "version": "4.2.0"
    }
  },
  "nbformat": 4,
  "nbformat_minor": 0
}