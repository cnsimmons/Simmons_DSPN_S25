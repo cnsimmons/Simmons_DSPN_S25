{
 "cells": [
  {
   "cell_type": "markdown",
   "metadata": {},
   "source": [
    "1. Summary Statistics"
   ]
  },
  {
   "cell_type": "code",
   "execution_count": 36,
   "metadata": {
    "vscode": {
     "languageId": "r"
    }
   },
   "outputs": [],
   "source": [
    "# Function to calculate summary statistics \n",
    "summary_stats <- function(x) {\n",
    "  \n",
    "  # Remove NA values\n",
    "  x_clean <- x[!is.na(x)]\n",
    "  \n",
    "  # Calculate summary statistics\n",
    "  length_val <- length(x_clean)\n",
    "  mean_val <- mean(x_clean)\n",
    "  sd_val <- sd(x_clean)\n",
    "  \n",
    "  # Return results as a named vector\n",
    "  return(c(length=length_val, \n",
    "  mean=mean_val, \n",
    "  sd=sd_val))\n",
    "}"
   ]
  },
  {
   "cell_type": "code",
   "execution_count": 37,
   "metadata": {
    "vscode": {
     "languageId": "r"
    }
   },
   "outputs": [
    {
     "data": {
      "text/html": [
       "<style>\n",
       ".dl-inline {width: auto; margin:0; padding: 0}\n",
       ".dl-inline>dt, .dl-inline>dd {float: none; width: auto; display: inline-block}\n",
       ".dl-inline>dt::after {content: \":\\0020\"; padding-right: .5ex}\n",
       ".dl-inline>dt:not(:first-of-type) {padding-left: .5ex}\n",
       "</style><dl class=dl-inline><dt>length</dt><dd>4</dd><dt>mean</dt><dd>7.75</dd><dt>sd</dt><dd>2.75378527364305</dd></dl>\n"
      ],
      "text/latex": [
       "\\begin{description*}\n",
       "\\item[length] 4\n",
       "\\item[mean] 7.75\n",
       "\\item[sd] 2.75378527364305\n",
       "\\end{description*}\n"
      ],
      "text/markdown": [
       "length\n",
       ":   4mean\n",
       ":   7.75sd\n",
       ":   2.75378527364305\n",
       "\n"
      ],
      "text/plain": [
       "  length     mean       sd \n",
       "4.000000 7.750000 2.753785 "
      ]
     },
     "metadata": {},
     "output_type": "display_data"
    }
   ],
   "source": [
    "# create a vector with NA values\n",
    "v1 <- c(5, 11, 6, NA, 9)\n",
    "\n",
    "# print new summary statistics vector\n",
    "summary_stats(v1)"
   ]
  },
  {
   "cell_type": "markdown",
   "metadata": {},
   "source": [
    "2. T-test function"
   ]
  },
  {
   "cell_type": "code",
   "execution_count": 58,
   "metadata": {
    "vscode": {
     "languageId": "r"
    }
   },
   "outputs": [],
   "source": [
    "# Function to calculate ttest\n",
    "ttest_fun <- function(x, mu) {\n",
    "    stats <- summary_stats(x)\n",
    "    t_test <- (stats[\"mean\"] - mu) / (stats[\"sd\"] / sqrt(stats[\"length\"]))\n",
    "    return(t_test)\n",
    "}"
   ]
  },
  {
   "cell_type": "code",
   "execution_count": 57,
   "metadata": {
    "vscode": {
     "languageId": "r"
    }
   },
   "outputs": [
    {
     "data": {
      "text/html": [
       "<strong>mean:</strong> -1.63411433820577"
      ],
      "text/latex": [
       "\\textbf{mean:} -1.63411433820577"
      ],
      "text/markdown": [
       "**mean:** -1.63411433820577"
      ],
      "text/plain": [
       "     mean \n",
       "-1.634114 "
      ]
     },
     "metadata": {},
     "output_type": "display_data"
    }
   ],
   "source": [
    "# Perform t-test\n",
    "ttest_fun(v1, 10)"
   ]
  },
  {
   "cell_type": "markdown",
   "metadata": {},
   "source": [
    "3. Setting default values"
   ]
  },
  {
   "cell_type": "code",
   "execution_count": 61,
   "metadata": {
    "vscode": {
     "languageId": "r"
    }
   },
   "outputs": [],
   "source": [
    "# Modified ttest function\n",
    "ttest_fun <- function(x, mu=0) {\n",
    "    stats <- summary_stats(x)\n",
    "    t_test <- (stats[\"mean\"] - mu) / (stats[\"sd\"] / sqrt(stats[\"length\"]))\n",
    "    return(t_test)\n",
    "}"
   ]
  },
  {
   "cell_type": "code",
   "execution_count": null,
   "metadata": {
    "vscode": {
     "languageId": "r"
    }
   },
   "outputs": [
    {
     "data": {
      "text/html": [
       "<strong>mean:</strong> 3.20594367796912"
      ],
      "text/latex": [
       "\\textbf{mean:} 3.20594367796912"
      ],
      "text/markdown": [
       "**mean:** 3.20594367796912"
      ],
      "text/plain": [
       "    mean \n",
       "3.205944 "
      ]
     },
     "metadata": {},
     "output_type": "display_data"
    }
   ],
   "source": [
    "# Define a new vector and run the modified ttest function\n",
    "v2 <- c(3, 7, 1, NA, 8, 12)\n",
    "ttest_fun(v2)"
   ]
  },
  {
   "cell_type": "code",
   "execution_count": 63,
   "metadata": {
    "vscode": {
     "languageId": "r"
    }
   },
   "outputs": [
    {
     "data": {
      "text/plain": [
       "\n",
       "\tOne Sample t-test\n",
       "\n",
       "data:  v2\n",
       "t = 3.2059, df = 4, p-value = 0.03272\n",
       "alternative hypothesis: true mean is not equal to 0\n",
       "95 percent confidence interval:\n",
       "  0.8306107 11.5693893\n",
       "sample estimates:\n",
       "mean of x \n",
       "      6.2 \n"
      ]
     },
     "metadata": {},
     "output_type": "display_data"
    }
   ],
   "source": [
    "# Using R's built-in t.test function\n",
    "t.test(v2)"
   ]
  }
 ],
 "metadata": {
  "kernelspec": {
   "display_name": "R",
   "language": "R",
   "name": "ir"
  },
  "language_info": {
   "codemirror_mode": "r",
   "file_extension": ".r",
   "mimetype": "text/x-r-source",
   "name": "R",
   "pygments_lexer": "r",
   "version": "4.3.3"
  },
  "orig_nbformat": 4
 },
 "nbformat": 4,
 "nbformat_minor": 2
}
