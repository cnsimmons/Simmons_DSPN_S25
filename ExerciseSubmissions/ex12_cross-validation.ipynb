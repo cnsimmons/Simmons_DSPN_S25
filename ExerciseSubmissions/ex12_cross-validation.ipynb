{
 "cells": [
  {
   "cell_type": "markdown",
   "metadata": {},
   "source": [
    "<a href=\"https://colab.research.google.com/github/CoAxLab/Data-Explorations/blob/main/book/exercises/cross-validation.ipynb\" target=\"_parent\"><img src=\"https://colab.research.google.com/assets/colab-badge.svg\" alt=\"Open In Colab\"/></a>"
   ]
  },
  {
   "cell_type": "markdown",
   "metadata": {
    "id": "6xdZ1WjBmtDf"
   },
   "source": [
    "# Exercise 12: Cross validation\n",
    "-----\n",
    "\n",
    "In this exercise, we'll practice implementing cross validation techniques, including leave-one-out and k-fold cross validation. We'll use the `PimaIndiansDiabetes2` practice dataset, which has medical data on a group of Pima Native American women, including whether or not they have diabetes. This dataset is part of the `mlbench` package. We'll be using each person's medical history to predict whether or not they have been diagnosed with diabetes. "
   ]
  },
  {
   "cell_type": "markdown",
   "metadata": {
    "id": "BubJSLTamtDg"
   },
   "source": [
    "# 1: Data (1 pts)\n",
    "---\n",
    "\n",
    "Load the `tidyverse`, `boot`, and `mlbench` packages (you may need to install `boot` and `mlbench`).\n",
    "\n",
    "Load the `PimaIndiansDiabetes2` dataset using the `data()` function. Drop the `insulin` column (it just has a lot of missing data) and then drop `NA`s from the rest of the dataset. Save your updated dataset to a new variable name. Finally, print the dimensions of your new dataset, and look at the first few lines of data."
   ]
  },
  {
   "cell_type": "code",
   "execution_count": 3,
   "metadata": {
    "id": "QNuKGb6emtDg",
    "vscode": {
     "languageId": "r"
    }
   },
   "outputs": [
    {
     "name": "stderr",
     "output_type": "stream",
     "text": [
      "Warning message:\n",
      "“package ‘dplyr’ was built under R version 4.2.1”\n"
     ]
    },
    {
     "name": "stderr",
     "output_type": "stream",
     "text": [
      "\n",
      "Attaching package: ‘dplyr’\n",
      "\n",
      "\n",
      "The following objects are masked from ‘package:stats’:\n",
      "\n",
      "    filter, lag\n",
      "\n",
      "\n",
      "The following objects are masked from ‘package:base’:\n",
      "\n",
      "    intersect, setdiff, setequal, union\n",
      "\n",
      "\n",
      "Warning message:\n",
      "“package ‘ggplot2’ was built under R version 4.2.2”\n"
     ]
    },
    {
     "data": {
      "text/html": [
       "<style>\n",
       ".list-inline {list-style: none; margin:0; padding: 0}\n",
       ".list-inline>li {display: inline-block}\n",
       ".list-inline>li:not(:last-child)::after {content: \"\\00b7\"; padding: 0 .5ex}\n",
       "</style>\n",
       "<ol class=list-inline><li>532</li><li>8</li></ol>\n"
      ],
      "text/latex": [
       "\\begin{enumerate*}\n",
       "\\item 532\n",
       "\\item 8\n",
       "\\end{enumerate*}\n"
      ],
      "text/markdown": [
       "1. 532\n",
       "2. 8\n",
       "\n",
       "\n"
      ],
      "text/plain": [
       "[1] 532   8"
      ]
     },
     "metadata": {},
     "output_type": "display_data"
    },
    {
     "data": {
      "text/html": [
       "<table class=\"dataframe\">\n",
       "<caption>A data.frame: 6 × 8</caption>\n",
       "<thead>\n",
       "\t<tr><th></th><th scope=col>pregnant</th><th scope=col>glucose</th><th scope=col>pressure</th><th scope=col>triceps</th><th scope=col>mass</th><th scope=col>pedigree</th><th scope=col>age</th><th scope=col>diabetes</th></tr>\n",
       "\t<tr><th></th><th scope=col>&lt;dbl&gt;</th><th scope=col>&lt;dbl&gt;</th><th scope=col>&lt;dbl&gt;</th><th scope=col>&lt;dbl&gt;</th><th scope=col>&lt;dbl&gt;</th><th scope=col>&lt;dbl&gt;</th><th scope=col>&lt;dbl&gt;</th><th scope=col>&lt;fct&gt;</th></tr>\n",
       "</thead>\n",
       "<tbody>\n",
       "\t<tr><th scope=row>1</th><td>6</td><td>148</td><td>72</td><td>35</td><td>33.6</td><td>0.627</td><td>50</td><td>pos</td></tr>\n",
       "\t<tr><th scope=row>2</th><td>1</td><td> 85</td><td>66</td><td>29</td><td>26.6</td><td>0.351</td><td>31</td><td>neg</td></tr>\n",
       "\t<tr><th scope=row>4</th><td>1</td><td> 89</td><td>66</td><td>23</td><td>28.1</td><td>0.167</td><td>21</td><td>neg</td></tr>\n",
       "\t<tr><th scope=row>5</th><td>0</td><td>137</td><td>40</td><td>35</td><td>43.1</td><td>2.288</td><td>33</td><td>pos</td></tr>\n",
       "\t<tr><th scope=row>7</th><td>3</td><td> 78</td><td>50</td><td>32</td><td>31.0</td><td>0.248</td><td>26</td><td>pos</td></tr>\n",
       "\t<tr><th scope=row>9</th><td>2</td><td>197</td><td>70</td><td>45</td><td>30.5</td><td>0.158</td><td>53</td><td>pos</td></tr>\n",
       "</tbody>\n",
       "</table>\n"
      ],
      "text/latex": [
       "A data.frame: 6 × 8\n",
       "\\begin{tabular}{r|llllllll}\n",
       "  & pregnant & glucose & pressure & triceps & mass & pedigree & age & diabetes\\\\\n",
       "  & <dbl> & <dbl> & <dbl> & <dbl> & <dbl> & <dbl> & <dbl> & <fct>\\\\\n",
       "\\hline\n",
       "\t1 & 6 & 148 & 72 & 35 & 33.6 & 0.627 & 50 & pos\\\\\n",
       "\t2 & 1 &  85 & 66 & 29 & 26.6 & 0.351 & 31 & neg\\\\\n",
       "\t4 & 1 &  89 & 66 & 23 & 28.1 & 0.167 & 21 & neg\\\\\n",
       "\t5 & 0 & 137 & 40 & 35 & 43.1 & 2.288 & 33 & pos\\\\\n",
       "\t7 & 3 &  78 & 50 & 32 & 31.0 & 0.248 & 26 & pos\\\\\n",
       "\t9 & 2 & 197 & 70 & 45 & 30.5 & 0.158 & 53 & pos\\\\\n",
       "\\end{tabular}\n"
      ],
      "text/markdown": [
       "\n",
       "A data.frame: 6 × 8\n",
       "\n",
       "| <!--/--> | pregnant &lt;dbl&gt; | glucose &lt;dbl&gt; | pressure &lt;dbl&gt; | triceps &lt;dbl&gt; | mass &lt;dbl&gt; | pedigree &lt;dbl&gt; | age &lt;dbl&gt; | diabetes &lt;fct&gt; |\n",
       "|---|---|---|---|---|---|---|---|---|\n",
       "| 1 | 6 | 148 | 72 | 35 | 33.6 | 0.627 | 50 | pos |\n",
       "| 2 | 1 |  85 | 66 | 29 | 26.6 | 0.351 | 31 | neg |\n",
       "| 4 | 1 |  89 | 66 | 23 | 28.1 | 0.167 | 21 | neg |\n",
       "| 5 | 0 | 137 | 40 | 35 | 43.1 | 2.288 | 33 | pos |\n",
       "| 7 | 3 |  78 | 50 | 32 | 31.0 | 0.248 | 26 | pos |\n",
       "| 9 | 2 | 197 | 70 | 45 | 30.5 | 0.158 | 53 | pos |\n",
       "\n"
      ],
      "text/plain": [
       "  pregnant glucose pressure triceps mass pedigree age diabetes\n",
       "1 6        148     72       35      33.6 0.627    50  pos     \n",
       "2 1         85     66       29      26.6 0.351    31  neg     \n",
       "4 1         89     66       23      28.1 0.167    21  neg     \n",
       "5 0        137     40       35      43.1 2.288    33  pos     \n",
       "7 3         78     50       32      31.0 0.248    26  pos     \n",
       "9 2        197     70       45      30.5 0.158    53  pos     "
      ]
     },
     "metadata": {},
     "output_type": "display_data"
    }
   ],
   "source": [
    "# 1: Data\n",
    "#library(tidyverse)\n",
    "library (dplyr)\n",
    "library(ggplot2)\n",
    "library(boot)\n",
    "library(mlbench)\n",
    "\n",
    "data(PimaIndiansDiabetes2)\n",
    "dat <- PimaIndiansDiabetes2 %>%\n",
    "  select(-insulin) %>%\n",
    "  na.omit()\n",
    "\n",
    "dim(dat)\n",
    "head(dat)"
   ]
  },
  {
   "cell_type": "markdown",
   "metadata": {
    "id": "_BRVQiWSmtDh"
   },
   "source": [
    "(Note that in medical contexts, `pedigree` refers to a system of measuring family history of a condition. So here, higher numbers mean greater family history of diabetes. You can read more about this dataset [here](https://rdrr.io/cran/mlbench/man/PimaIndiansDiabetes.html).)\n",
    "\n",
    "# 2. Leave-one-out Cross Validation (4 pts)\n",
    "\n",
    "In the tutorial, we learned how to fit leave-one-out cross validation using the `cv.glm` function from the `boot` package. But we can also do this manually using `predict()` like we have in the past.\n",
    "\n",
    "Let's predict `diabetes`, a dichotomous outcome, using all the other variables in our modified dataset. \n",
    "\n",
    "First, fit a logistic regression model using all of the observations except the very first one. Then use your fitted model to predict whether your holdout case is positive or negative for diabetes. Remember that logistic regression coefficients are in **log-odds**, meaning that if an output is positive, the probability of the outcome is greater than 50%; if the output is negative, the probability of the outcome is less than 50%. \n",
    "\n",
    "Compare your result to the actual response in row one above. Did your model correctly classify this observation?"
   ]
  },
  {
   "cell_type": "code",
   "execution_count": 4,
   "metadata": {
    "id": "RDyry5h_mtDi",
    "vscode": {
     "languageId": "r"
    }
   },
   "outputs": [
    {
     "name": "stdout",
     "output_type": "stream",
     "text": [
      "Actual: 2 Predicted: pos"
     ]
    }
   ],
   "source": [
    "# 2. Leave-one-out Cross Validation\n",
    "\n",
    "# First test case\n",
    "test_case <- dat[1, ]\n",
    "train_data <- dat[-1, ]\n",
    "\n",
    "model <- glm(diabetes ~ ., data = train_data, family = binomial)\n",
    "prediction <- predict(model, newdata = test_case, type = \"response\")\n",
    "predicted_class <- ifelse(prediction > 0.5, \"pos\", \"neg\")\n",
    "\n",
    "# Compare to actual class\n",
    "actual_class <- test_case$diabetes\n",
    "cat(\"Actual:\", actual_class, \"Predicted:\", predicted_class)"
   ]
  },
  {
   "cell_type": "markdown",
   "metadata": {
    "id": "sIPpDdd0mtDi"
   },
   "source": [
    "So we just calculated a single iteration of LOOCV. We used 531 rows of our data to fit a model to predict the outcome of the last row. \n",
    "\n",
    "Below, use a `for` loop to iterate through the rest of your dataset doing the same thing. You will need to:\n",
    "* Create a data frame `results` with two columns: one named `actual` which holds the true classification for each observation, and one named `predicted`, which should be filled with `NA`s. This is where you'll store the output of your loop.\n",
    "* Create a loop that runs through each row of your data, pulls that observation out, trains your model on the remaining data, and then tests the fitted model on your test observation.\n",
    "* Store your model *predictions* (\"pos\" or \"neg\" -- not the log-odds) in the `predicted` column of your `results` dataframe\n",
    "\n",
    "After you run your loop, print the first few lines of `results`."
   ]
  },
  {
   "cell_type": "code",
   "execution_count": 5,
   "metadata": {
    "id": "5Z1ijm_PmtDj",
    "vscode": {
     "languageId": "r"
    }
   },
   "outputs": [
    {
     "data": {
      "text/html": [
       "<table class=\"dataframe\">\n",
       "<caption>A data.frame: 6 × 2</caption>\n",
       "<thead>\n",
       "\t<tr><th></th><th scope=col>actual</th><th scope=col>predicted</th></tr>\n",
       "\t<tr><th></th><th scope=col>&lt;fct&gt;</th><th scope=col>&lt;chr&gt;</th></tr>\n",
       "</thead>\n",
       "<tbody>\n",
       "\t<tr><th scope=row>1</th><td>pos</td><td>pos</td></tr>\n",
       "\t<tr><th scope=row>2</th><td>neg</td><td>neg</td></tr>\n",
       "\t<tr><th scope=row>3</th><td>neg</td><td>neg</td></tr>\n",
       "\t<tr><th scope=row>4</th><td>pos</td><td>pos</td></tr>\n",
       "\t<tr><th scope=row>5</th><td>pos</td><td>neg</td></tr>\n",
       "\t<tr><th scope=row>6</th><td>pos</td><td>pos</td></tr>\n",
       "</tbody>\n",
       "</table>\n"
      ],
      "text/latex": [
       "A data.frame: 6 × 2\n",
       "\\begin{tabular}{r|ll}\n",
       "  & actual & predicted\\\\\n",
       "  & <fct> & <chr>\\\\\n",
       "\\hline\n",
       "\t1 & pos & pos\\\\\n",
       "\t2 & neg & neg\\\\\n",
       "\t3 & neg & neg\\\\\n",
       "\t4 & pos & pos\\\\\n",
       "\t5 & pos & neg\\\\\n",
       "\t6 & pos & pos\\\\\n",
       "\\end{tabular}\n"
      ],
      "text/markdown": [
       "\n",
       "A data.frame: 6 × 2\n",
       "\n",
       "| <!--/--> | actual &lt;fct&gt; | predicted &lt;chr&gt; |\n",
       "|---|---|---|\n",
       "| 1 | pos | pos |\n",
       "| 2 | neg | neg |\n",
       "| 3 | neg | neg |\n",
       "| 4 | pos | pos |\n",
       "| 5 | pos | neg |\n",
       "| 6 | pos | pos |\n",
       "\n"
      ],
      "text/plain": [
       "  actual predicted\n",
       "1 pos    pos      \n",
       "2 neg    neg      \n",
       "3 neg    neg      \n",
       "4 pos    pos      \n",
       "5 pos    neg      \n",
       "6 pos    pos      "
      ]
     },
     "metadata": {},
     "output_type": "display_data"
    }
   ],
   "source": [
    "# Initialize `results` data frame\n",
    "results <- data.frame(\n",
    "  actual = dat$diabetes,\n",
    "  predicted = rep(NA, nrow(dat))\n",
    ")\n",
    "\n",
    "# for loop\n",
    "for (i in 1:nrow(dat)){ \n",
    "    # separate individual observation `i` from the rest of your data\n",
    "    test_case <- dat[i, ]\n",
    "    train_data <- dat[-i, ]\n",
    "    \n",
    "    # train your model\n",
    "    model <- glm(diabetes ~ ., data = train_data, family = binomial)\n",
    "    \n",
    "    # test model on hold out observation\n",
    "    prediction <- predict(model, newdata = test_case, type = \"response\")\n",
    "    \n",
    "    # classify model prediction as \"pos\" or \"neg\" and add to `results`\n",
    "    results$predicted[i] <- ifelse(prediction > 0.5, \"pos\", \"neg\")\n",
    "}\n",
    "\n",
    "head(results)"
   ]
  },
  {
   "cell_type": "markdown",
   "metadata": {
    "id": "42Jng_EEmtDk"
   },
   "source": [
    "Now, calculate the overall error of your model. What proportion of cases were incorrectly classified?"
   ]
  },
  {
   "cell_type": "code",
   "execution_count": 6,
   "metadata": {
    "id": "SYhKS5HimtDk",
    "vscode": {
     "languageId": "r"
    }
   },
   "outputs": [
    {
     "name": "stdout",
     "output_type": "stream",
     "text": [
      "Error rate: 0.2218045"
     ]
    }
   ],
   "source": [
    "# Calculate the overall error of your model\n",
    "error_rate <- mean(results$actual != results$predicted)\n",
    "cat(\"Error rate:\", error_rate)"
   ]
  },
  {
   "cell_type": "markdown",
   "metadata": {
    "id": "W1TwL8BimtDl"
   },
   "source": [
    "# 3. Compare to `cv.glm` (3 pts)\n",
    "\n",
    "Now, let's compare this result to the `cv.glm` function. Using the tutorial as a guide, use `cv.glm` to run LOOCV on the data, using the same model (i.e., still using all of the variables to predict diabetes diagnosis).\n",
    "\n",
    "Note that, because this is a `classification` problem and not a regression problem like in the tutorial, we need to adjust the `cost` argument of `cv.glm`. We can read more about this in the docs:"
   ]
  },
  {
   "cell_type": "code",
   "execution_count": 9,
   "metadata": {
    "id": "wIUAW1AtmtDl",
    "vscode": {
     "languageId": "r"
    }
   },
   "outputs": [],
   "source": [
    "#3. Compare to cv.glm\n",
    "# Define cost function for binary classification\n",
    "cost <- function(r, pi = 0) mean(abs(r-pi) > 0.5)\n",
    "\n",
    "# Convert categorical variable to numeric for cv.glm\n",
    "dat_numeric <- dat\n",
    "dat_numeric$diabetes <- ifelse(dat_numeric$diabetes == \"pos\", 1, 0)\n",
    "\n",
    "# Fit model using all data\n",
    "model_full <- glm(diabetes ~ ., data = dat_numeric, family = binomial)"
   ]
  },
  {
   "cell_type": "markdown",
   "metadata": {
    "id": "SWhbyxtymtDl"
   },
   "source": [
    "Here, we see `cost` is defined as: \n",
    "> \"A function of two vector arguments specifying the cost function for the cross-validation. The first argument to cost should correspond to the **observed responses** and the second argument should correspond to the **predicted or fitted responses** from the generalized linear model.\"\n",
    "\n",
    "In the example code (scroll to bottom of the docs), we see that the appropriate cost function for a binary classification is \n",
    "\n",
    "``\n",
    "cost <- function(r, pi = 0) mean(abs(r-pi) > 0.5)\n",
    "``\n",
    "\n",
    "Where `r` is the vector of observed responses (technically \"pos\" and \"neg\", but R treats these as 1 and 0 under the hood), and `pi` is the vector of *probabilities* (not log-odds) fit by the model. Thus, this boils down to our error: what proportion of observations were incorrectly classified. You will need to include this code below."
   ]
  },
  {
   "cell_type": "code",
   "execution_count": 10,
   "metadata": {
    "id": "bJiCmfqomtDl",
    "vscode": {
     "languageId": "r"
    }
   },
   "outputs": [
    {
     "name": "stdout",
     "output_type": "stream",
     "text": [
      "LOOCV error using cv.glm: 0.2218045"
     ]
    }
   ],
   "source": [
    "# Run LOOCV using cv.glm\n",
    "loocv_result <- cv.glm(dat_numeric, model_full, cost = cost, K = nrow(dat_numeric))\n",
    "\n",
    "# Display error\n",
    "cat(\"LOOCV error using cv.glm:\", loocv_result$delta[1])"
   ]
  },
  {
   "cell_type": "markdown",
   "metadata": {
    "id": "IcEuGX3FmtDm"
   },
   "source": [
    "How do your results compare to your manual LOOCV above?\n",
    "\n",
    "> * *Both methods have equivalent results*\n",
    ">\n",
    "> * \n"
   ]
  },
  {
   "cell_type": "markdown",
   "metadata": {
    "id": "6Y2tL4NpmtDm"
   },
   "source": [
    "# 4. Adjusting K and Reflection (2 pts)\n",
    "\n",
    "Recall that LOOCV has some drawbacks. In particular, it has quite high *variance* which can lead to poor performance on new test data. We can reduce this variance by increasing K.\n",
    "\n",
    "Below, re-run your cross validation using `cv.glm` with `k` set to 3, 5, 10, and 15. "
   ]
  },
  {
   "cell_type": "code",
   "execution_count": 8,
   "metadata": {
    "id": "vZYq_NQlmtDm",
    "scrolled": true,
    "vscode": {
     "languageId": "r"
    }
   },
   "outputs": [
    {
     "name": "stdout",
     "output_type": "stream",
     "text": [
      "K = 3, error: 0.2105263 \n",
      "K = 5, error: 0.2161654 \n",
      "K = 10, error: 0.2236842 \n",
      "K = 15, error: 0.2274436 \n"
     ]
    }
   ],
   "source": [
    "# 4. Adjusting K and Reflection\n",
    "set.seed(1)\n",
    "\n",
    "# K = 3\n",
    "k3_result <- cv.glm(dat_numeric, model_full, cost = cost, K = 3)\n",
    "cat(\"K = 3, error:\", k3_result$delta[1], \"\\n\")\n",
    "\n",
    "# K = 5\n",
    "k5_result <- cv.glm(dat_numeric, model_full, cost = cost, K = 5)\n",
    "cat(\"K = 5, error:\", k5_result$delta[1], \"\\n\")\n",
    "\n",
    "# K = 10\n",
    "k10_result <- cv.glm(dat_numeric, model_full, cost = cost, K = 10)\n",
    "cat(\"K = 10, error:\", k10_result$delta[1], \"\\n\")\n",
    "\n",
    "# K = 15\n",
    "k15_result <- cv.glm(dat_numeric, model_full, cost = cost, K = 15)\n",
    "cat(\"K = 15, error:\", k15_result$delta[1], \"\\n\")"
   ]
  },
  {
   "cell_type": "markdown",
   "metadata": {
    "id": "fI5Y1OqOmtDn"
   },
   "source": [
    "#### Reflection\n",
    "\n",
    "How do your errors compare to your LOOCV error above? How do they change as k increases?\n",
    "> * *Errors increase as k increases. This shows that with larger K values, the cross-validation results approach the LOOCV result of .22...*\n",
    "> \n",
    "> *  \n",
    "\n",
    "If you change the random seed above, you'll get slightly different errors. If you were to do the same with your LOOCV above , would you expect to get different results each time? Why or why not?\n",
    "> * *If you changed the random seed for LOOCV, you shouldn't  get different results because LOOCV doesn't involve random partitioning. *\n",
    "> * "
   ]
  },
  {
   "cell_type": "markdown",
   "metadata": {},
   "source": [
    "\n",
    "**DUE:** 5pm March 25, 2024\n",
    "\n",
    "**IMPORTANT** Did you collaborate with anyone on this assignment? If so, list their names here.\n",
    "> *Someone's Name*\n",
    ">\n",
    ">\n"
   ]
  }
 ],
 "metadata": {
  "colab": {
   "provenance": []
  },
  "kernelspec": {
   "display_name": "R",
   "language": "R",
   "name": "ir"
  },
  "language_info": {
   "codemirror_mode": "r",
   "file_extension": ".r",
   "mimetype": "text/x-r-source",
   "name": "R",
   "pygments_lexer": "r",
   "version": "4.2.0"
  }
 },
 "nbformat": 4,
 "nbformat_minor": 1
}
