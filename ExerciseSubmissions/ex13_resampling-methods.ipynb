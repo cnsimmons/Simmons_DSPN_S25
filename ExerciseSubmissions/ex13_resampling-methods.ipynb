{
 "cells": [
  {
   "cell_type": "markdown",
   "metadata": {},
   "source": [
    "<a href=\"https://colab.research.google.com/github/CoAxLab/Data-Explorations/blob/main/book/exercises/resampling-methods.ipynb\" target=\"_parent\"><img src=\"https://colab.research.google.com/assets/colab-badge.svg\" alt=\"Open In Colab\"/></a>"
   ]
  },
  {
   "cell_type": "markdown",
   "metadata": {
    "id": "YO9Lm6oNn8Ol"
   },
   "source": [
    "# Exercise 13:  Resampling methods\n",
    "\n",
    "This homework assignment is designed to give you practice with bootstrapping and permutation tests.\n",
    "\n",
    "You will need to download the **unrestricted_trimmed_1_7_2020_10_50_44.csv** file from the *Homework/hcp_data* folder in the class GitHub repository. \n",
    "\n",
    "This data is a portion of the [Human Connectome Project database](http://www.humanconnectomeproject.org/). It provides measures of cognitive tasks and brain morphology measuresments from 1206 participants. The full description of each variable is provided in the **HCP_S1200_DataDictionary_April_20_2018.csv** file in the *Homework/hcp_data* folder in the class GitHub repository."
   ]
  },
  {
   "cell_type": "markdown",
   "metadata": {
    "id": "h8YQJS8Dn8Or"
   },
   "source": [
    "---\n",
    "## 1. Loading & Visualizing the Data (1 point)\n",
    "\n",
    "Use the `setwd` and `read.csv` functions to load data from the **unrestricted_trimmed_1_7_2020_10_50_44.csv** file. \n",
    "\n",
    "(a) Using the tidyverse tools, make a new dataframe `d1` that only inclues the subject ID (`Subject`), gender (`Gender`, self reported at time of data collection), Flanker Task performance (`Flanker_Unadj`), total intracranial volume (`FS_IntraCranial_Vol`), total white matter volume (`FS_Tot_WM_Vol`), and total grey matter volume (`FS_Total_GM_Vol`) variables and remove all _na_ values.\n",
    "\n",
    "Use the `head` function to look at the first few rows of each data frame. "
   ]
  },
  {
   "cell_type": "code",
   "execution_count": null,
   "metadata": {
    "id": "ja0PYvbIn8Os",
    "vscode": {
     "languageId": "r"
    }
   },
   "outputs": [],
   "source": [
    "# WRITE YOUR CODE HERE\n",
    "\n"
   ]
  },
  {
   "cell_type": "markdown",
   "metadata": {
    "id": "t7Eonkzzn8Ot"
   },
   "source": [
    "(b) Plot grey matter volume (x axis) against intracranial volume (y axis) and Gender (point color). "
   ]
  },
  {
   "cell_type": "code",
   "execution_count": null,
   "metadata": {
    "id": "eJuQ_rSYn8Ou",
    "vscode": {
     "languageId": "r"
    }
   },
   "outputs": [],
   "source": [
    "# WRITE YOUR CODE HERE\n",
    "\n"
   ]
  },
  {
   "cell_type": "markdown",
   "metadata": {
    "id": "GgrlW2Lkn8Ou"
   },
   "source": [
    "What patterns do you observe in the scatter plot?"
   ]
  },
  {
   "cell_type": "markdown",
   "metadata": {
    "id": "L9IcxyXrn8Ou"
   },
   "source": [
    "> *Write your response here* \n",
    "> "
   ]
  },
  {
   "cell_type": "markdown",
   "metadata": {
    "id": "ZyRo6pa9n8Oy"
   },
   "source": [
    "---\n",
    "## 2. Logistic classifier (2 points)"
   ]
  },
  {
   "cell_type": "markdown",
   "metadata": {
    "id": "ZOwhhD43n8Oz"
   },
   "source": [
    "We want to try predicting gender using the neural data you have loaded.\n",
    "\n",
    "(a) Run a logisic regression model to predict gender from total white matter volume, total grey matter volume, and intracranial volume. "
   ]
  },
  {
   "cell_type": "code",
   "execution_count": null,
   "metadata": {
    "id": "SHnmjiGEalHa",
    "scrolled": true,
    "vscode": {
     "languageId": "r"
    }
   },
   "outputs": [],
   "source": [
    "# WRITE YOUR CODE HERE\n",
    "\n"
   ]
  },
  {
   "cell_type": "markdown",
   "metadata": {
    "id": "TJsxKecfn8Oz"
   },
   "source": [
    "Which factors are signficantly associated with gender?"
   ]
  },
  {
   "cell_type": "markdown",
   "metadata": {
    "id": "Zx8Qoy7Xn8O0"
   },
   "source": [
    "> *Write your response here* \n",
    "> "
   ]
  },
  {
   "cell_type": "markdown",
   "metadata": {
    "id": "mcxF31C7n8O0"
   },
   "source": [
    "(b) Estimate the prediction accuracy of your model (Note: this is the training set accuracy). Set your prediction threshold to 0.5."
   ]
  },
  {
   "cell_type": "code",
   "execution_count": null,
   "metadata": {
    "id": "2qb1RosDn8O0",
    "vscode": {
     "languageId": "r"
    }
   },
   "outputs": [],
   "source": [
    "# WRITE YOUR CODE HERE\n",
    "\n"
   ]
  },
  {
   "cell_type": "markdown",
   "metadata": {
    "id": "KHLfOMe-n8O0"
   },
   "source": [
    "What is the prediction accuracy for gender from the full model?"
   ]
  },
  {
   "cell_type": "markdown",
   "metadata": {
    "id": "eN9SGyESn8O1"
   },
   "source": [
    ">*Write your response here* \n",
    "> "
   ]
  },
  {
   "attachments": {},
   "cell_type": "markdown",
   "metadata": {
    "id": "9Y_ftEZPn8O1"
   },
   "source": [
    "---\n",
    "## 3. Bootstrapped accuracy (3 points)\n",
    "\n",
    "Use bootstrapping to estimate the confidence intervals of the _prediction accuracy_ of your model (i.e., the confidence of the correlation between $\\hat{y}$ and $y$). Plot the histogram of the bootstrapped prediction accuracies and estimate the confidence intervals off of the standard deviation from the bootstrap.\n"
   ]
  },
  {
   "cell_type": "code",
   "execution_count": null,
   "metadata": {
    "id": "mwBjwZLIn8O1",
    "vscode": {
     "languageId": "r"
    }
   },
   "outputs": [],
   "source": [
    "# WRITE YOUR CODE HERE\n",
    "\n"
   ]
  },
  {
   "cell_type": "markdown",
   "metadata": {
    "id": "RflF_i36n8O2"
   },
   "source": [
    "How robust is the prediction accuracy of the full model?"
   ]
  },
  {
   "cell_type": "markdown",
   "metadata": {
    "id": "JDM2tpBMn8O2"
   },
   "source": [
    "> *Write your response here* \n",
    "> "
   ]
  },
  {
   "cell_type": "markdown",
   "metadata": {
    "id": "jZVWq9SVn8O2"
   },
   "source": [
    "---\n",
    "## 4. Permutation test for grey matter effects (3 points)\n",
    "\n",
    "Now run a permutation test, with 1000 iterations, to evaluate how much grey matter volume contributes to the prediction accuracy. Compare the prediction accuracy of the full (unpermuted model) with the distribution of accuracies you get with a randomized grey matter volume term using a histogram (Hint: use the `abline` function to show the original accuracy on the histogram)."
   ]
  },
  {
   "cell_type": "code",
   "execution_count": null,
   "metadata": {
    "id": "SmtoqASUn8O2",
    "vscode": {
     "languageId": "r"
    }
   },
   "outputs": [],
   "source": [
    "# WRITE YOUR CODE HERE\n",
    "\n"
   ]
  },
  {
   "cell_type": "markdown",
   "metadata": {
    "id": "lMCPgckCn8O3"
   },
   "source": [
    "How much does the grey matter volume influence the prediction accuracy of the model?"
   ]
  },
  {
   "cell_type": "markdown",
   "metadata": {
    "id": "jNk69mfmn8O4"
   },
   "source": [
    "> *Write your response here* \n",
    "> "
   ]
  },
  {
   "cell_type": "markdown",
   "metadata": {
    "id": "E827AOcUn8O4"
   },
   "source": [
    "---\n",
    "## 5. Reflection (1 point)\n",
    "\n",
    "Differentiate the bootstrap from a permutation test. Describe each and when is it appropriate to each."
   ]
  },
  {
   "cell_type": "markdown",
   "metadata": {
    "id": "wVcR2qaOn8O4"
   },
   "source": [
    "> *Write your response here* \n",
    "> "
   ]
  },
  {
   "cell_type": "markdown",
   "metadata": {
    "id": "8PoekVTAn8O4"
   },
   "source": [
    "**DUE:** 5pm EST, March 27, 2024"
   ]
  },
  {
   "cell_type": "markdown",
   "metadata": {
    "id": "PTVa2-bEn8O4"
   },
   "source": [
    "**IMPORTANT** Did you collaborate with anyone on this assignment? If so, list their names here. \n",
    "> *Someone's Name*"
   ]
  }
 ],
 "metadata": {
  "colab": {
   "provenance": []
  },
  "kernelspec": {
   "display_name": "R",
   "language": "R",
   "name": "ir"
  },
  "language_info": {
   "codemirror_mode": "r",
   "file_extension": ".r",
   "mimetype": "text/x-r-source",
   "name": "R",
   "pygments_lexer": "r",
   "version": "4.2.0"
  }
 },
 "nbformat": 4,
 "nbformat_minor": 1
}
